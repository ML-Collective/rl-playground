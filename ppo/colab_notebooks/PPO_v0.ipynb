{
  "nbformat": 4,
  "nbformat_minor": 0,
  "metadata": {
    "colab": {
      "name": "PPO-v0.ipynb",
      "provenance": [],
      "collapsed_sections": [],
      "toc_visible": true,
      "include_colab_link": true
    },
    "kernelspec": {
      "name": "python3",
      "display_name": "Python 3"
    },
    "language_info": {
      "name": "python"
    }
  },
  "cells": [
    {
      "cell_type": "markdown",
      "metadata": {
        "id": "view-in-github",
        "colab_type": "text"
      },
      "source": [
        "<a href=\"https://colab.research.google.com/github/moodlep/rl-playground/blob/main/ppo/colab_notebooks/PPO_v0.ipynb\" target=\"_parent\"><img src=\"https://colab.research.google.com/assets/colab-badge.svg\" alt=\"Open In Colab\"/></a>"
      ]
    },
    {
      "cell_type": "markdown",
      "source": [
        "# Installations"
      ],
      "metadata": {
        "id": "v6b7vGWAq1V3"
      }
    },
    {
      "cell_type": "code",
      "execution_count": 1,
      "metadata": {
        "colab": {
          "base_uri": "https://localhost:8080/"
        },
        "id": "aJsXm7tEqPlR",
        "outputId": "bd1f4e0c-e59d-4939-83f8-dda8c61956b7"
      },
      "outputs": [
        {
          "output_type": "stream",
          "name": "stdout",
          "text": [
            "Collecting box2d-py\n",
            "  Downloading box2d_py-2.3.8-cp37-cp37m-manylinux1_x86_64.whl (448 kB)\n",
            "\u001b[?25l\r\u001b[K     |▊                               | 10 kB 21.6 MB/s eta 0:00:01\r\u001b[K     |█▌                              | 20 kB 24.5 MB/s eta 0:00:01\r\u001b[K     |██▏                             | 30 kB 18.2 MB/s eta 0:00:01\r\u001b[K     |███                             | 40 kB 15.2 MB/s eta 0:00:01\r\u001b[K     |███▋                            | 51 kB 7.3 MB/s eta 0:00:01\r\u001b[K     |████▍                           | 61 kB 7.0 MB/s eta 0:00:01\r\u001b[K     |█████▏                          | 71 kB 7.4 MB/s eta 0:00:01\r\u001b[K     |█████▉                          | 81 kB 8.2 MB/s eta 0:00:01\r\u001b[K     |██████▋                         | 92 kB 8.7 MB/s eta 0:00:01\r\u001b[K     |███████▎                        | 102 kB 6.8 MB/s eta 0:00:01\r\u001b[K     |████████                        | 112 kB 6.8 MB/s eta 0:00:01\r\u001b[K     |████████▊                       | 122 kB 6.8 MB/s eta 0:00:01\r\u001b[K     |█████████▌                      | 133 kB 6.8 MB/s eta 0:00:01\r\u001b[K     |██████████▎                     | 143 kB 6.8 MB/s eta 0:00:01\r\u001b[K     |███████████                     | 153 kB 6.8 MB/s eta 0:00:01\r\u001b[K     |███████████▊                    | 163 kB 6.8 MB/s eta 0:00:01\r\u001b[K     |████████████▍                   | 174 kB 6.8 MB/s eta 0:00:01\r\u001b[K     |█████████████▏                  | 184 kB 6.8 MB/s eta 0:00:01\r\u001b[K     |█████████████▉                  | 194 kB 6.8 MB/s eta 0:00:01\r\u001b[K     |██████████████▋                 | 204 kB 6.8 MB/s eta 0:00:01\r\u001b[K     |███████████████▍                | 215 kB 6.8 MB/s eta 0:00:01\r\u001b[K     |████████████████                | 225 kB 6.8 MB/s eta 0:00:01\r\u001b[K     |████████████████▉               | 235 kB 6.8 MB/s eta 0:00:01\r\u001b[K     |█████████████████▌              | 245 kB 6.8 MB/s eta 0:00:01\r\u001b[K     |██████████████████▎             | 256 kB 6.8 MB/s eta 0:00:01\r\u001b[K     |███████████████████             | 266 kB 6.8 MB/s eta 0:00:01\r\u001b[K     |███████████████████▊            | 276 kB 6.8 MB/s eta 0:00:01\r\u001b[K     |████████████████████▌           | 286 kB 6.8 MB/s eta 0:00:01\r\u001b[K     |█████████████████████▏          | 296 kB 6.8 MB/s eta 0:00:01\r\u001b[K     |██████████████████████          | 307 kB 6.8 MB/s eta 0:00:01\r\u001b[K     |██████████████████████▋         | 317 kB 6.8 MB/s eta 0:00:01\r\u001b[K     |███████████████████████▍        | 327 kB 6.8 MB/s eta 0:00:01\r\u001b[K     |████████████████████████        | 337 kB 6.8 MB/s eta 0:00:01\r\u001b[K     |████████████████████████▉       | 348 kB 6.8 MB/s eta 0:00:01\r\u001b[K     |█████████████████████████▋      | 358 kB 6.8 MB/s eta 0:00:01\r\u001b[K     |██████████████████████████▎     | 368 kB 6.8 MB/s eta 0:00:01\r\u001b[K     |███████████████████████████     | 378 kB 6.8 MB/s eta 0:00:01\r\u001b[K     |███████████████████████████▊    | 389 kB 6.8 MB/s eta 0:00:01\r\u001b[K     |████████████████████████████▌   | 399 kB 6.8 MB/s eta 0:00:01\r\u001b[K     |█████████████████████████████▏  | 409 kB 6.8 MB/s eta 0:00:01\r\u001b[K     |██████████████████████████████  | 419 kB 6.8 MB/s eta 0:00:01\r\u001b[K     |██████████████████████████████▊ | 430 kB 6.8 MB/s eta 0:00:01\r\u001b[K     |███████████████████████████████▍| 440 kB 6.8 MB/s eta 0:00:01\r\u001b[K     |████████████████████████████████| 448 kB 6.8 MB/s \n",
            "\u001b[?25hInstalling collected packages: box2d-py\n",
            "Successfully installed box2d-py-2.3.8\n",
            "Requirement already satisfied: gym[Box_2D] in /usr/local/lib/python3.7/dist-packages (0.17.3)\n",
            "\u001b[33mWARNING: gym 0.17.3 does not provide the extra 'box_2d'\u001b[0m\n",
            "Requirement already satisfied: scipy in /usr/local/lib/python3.7/dist-packages (from gym[Box_2D]) (1.4.1)\n",
            "Requirement already satisfied: pyglet<=1.5.0,>=1.4.0 in /usr/local/lib/python3.7/dist-packages (from gym[Box_2D]) (1.5.0)\n",
            "Requirement already satisfied: numpy>=1.10.4 in /usr/local/lib/python3.7/dist-packages (from gym[Box_2D]) (1.19.5)\n",
            "Requirement already satisfied: cloudpickle<1.7.0,>=1.2.0 in /usr/local/lib/python3.7/dist-packages (from gym[Box_2D]) (1.3.0)\n",
            "Requirement already satisfied: future in /usr/local/lib/python3.7/dist-packages (from pyglet<=1.5.0,>=1.4.0->gym[Box_2D]) (0.16.0)\n"
          ]
        }
      ],
      "source": [
        "!pip3 install box2d-py\n",
        "!pip3 install gym[Box_2D]"
      ]
    },
    {
      "cell_type": "code",
      "source": [
        "!pip install stable-baselines3"
      ],
      "metadata": {
        "colab": {
          "base_uri": "https://localhost:8080/"
        },
        "id": "FKKl_RhVVV0k",
        "outputId": "76baf5e6-b12d-4201-eb35-131072717345"
      },
      "execution_count": 2,
      "outputs": [
        {
          "output_type": "stream",
          "name": "stdout",
          "text": [
            "Collecting stable-baselines3\n",
            "  Downloading stable_baselines3-1.3.0-py3-none-any.whl (174 kB)\n",
            "\u001b[?25l\r\u001b[K     |█▉                              | 10 kB 19.1 MB/s eta 0:00:01\r\u001b[K     |███▊                            | 20 kB 25.8 MB/s eta 0:00:01\r\u001b[K     |█████▋                          | 30 kB 23.7 MB/s eta 0:00:01\r\u001b[K     |███████▌                        | 40 kB 18.7 MB/s eta 0:00:01\r\u001b[K     |█████████▍                      | 51 kB 9.9 MB/s eta 0:00:01\r\u001b[K     |███████████▎                    | 61 kB 8.1 MB/s eta 0:00:01\r\u001b[K     |█████████████▏                  | 71 kB 9.0 MB/s eta 0:00:01\r\u001b[K     |███████████████                 | 81 kB 10.0 MB/s eta 0:00:01\r\u001b[K     |████████████████▉               | 92 kB 10.8 MB/s eta 0:00:01\r\u001b[K     |██████████████████▊             | 102 kB 8.9 MB/s eta 0:00:01\r\u001b[K     |████████████████████▋           | 112 kB 8.9 MB/s eta 0:00:01\r\u001b[K     |██████████████████████▌         | 122 kB 8.9 MB/s eta 0:00:01\r\u001b[K     |████████████████████████▍       | 133 kB 8.9 MB/s eta 0:00:01\r\u001b[K     |██████████████████████████▎     | 143 kB 8.9 MB/s eta 0:00:01\r\u001b[K     |████████████████████████████▏   | 153 kB 8.9 MB/s eta 0:00:01\r\u001b[K     |██████████████████████████████  | 163 kB 8.9 MB/s eta 0:00:01\r\u001b[K     |███████████████████████████████▉| 174 kB 8.9 MB/s eta 0:00:01\r\u001b[K     |████████████████████████████████| 174 kB 8.9 MB/s \n",
            "\u001b[?25hRequirement already satisfied: matplotlib in /usr/local/lib/python3.7/dist-packages (from stable-baselines3) (3.2.2)\n",
            "Requirement already satisfied: cloudpickle in /usr/local/lib/python3.7/dist-packages (from stable-baselines3) (1.3.0)\n",
            "Requirement already satisfied: gym<0.20,>=0.17 in /usr/local/lib/python3.7/dist-packages (from stable-baselines3) (0.17.3)\n",
            "Requirement already satisfied: numpy in /usr/local/lib/python3.7/dist-packages (from stable-baselines3) (1.19.5)\n",
            "Requirement already satisfied: pandas in /usr/local/lib/python3.7/dist-packages (from stable-baselines3) (1.1.5)\n",
            "Requirement already satisfied: torch>=1.8.1 in /usr/local/lib/python3.7/dist-packages (from stable-baselines3) (1.10.0+cu111)\n",
            "Requirement already satisfied: scipy in /usr/local/lib/python3.7/dist-packages (from gym<0.20,>=0.17->stable-baselines3) (1.4.1)\n",
            "Requirement already satisfied: pyglet<=1.5.0,>=1.4.0 in /usr/local/lib/python3.7/dist-packages (from gym<0.20,>=0.17->stable-baselines3) (1.5.0)\n",
            "Requirement already satisfied: future in /usr/local/lib/python3.7/dist-packages (from pyglet<=1.5.0,>=1.4.0->gym<0.20,>=0.17->stable-baselines3) (0.16.0)\n",
            "Requirement already satisfied: typing-extensions in /usr/local/lib/python3.7/dist-packages (from torch>=1.8.1->stable-baselines3) (3.10.0.2)\n",
            "Requirement already satisfied: cycler>=0.10 in /usr/local/lib/python3.7/dist-packages (from matplotlib->stable-baselines3) (0.11.0)\n",
            "Requirement already satisfied: pyparsing!=2.0.4,!=2.1.2,!=2.1.6,>=2.0.1 in /usr/local/lib/python3.7/dist-packages (from matplotlib->stable-baselines3) (3.0.6)\n",
            "Requirement already satisfied: kiwisolver>=1.0.1 in /usr/local/lib/python3.7/dist-packages (from matplotlib->stable-baselines3) (1.3.2)\n",
            "Requirement already satisfied: python-dateutil>=2.1 in /usr/local/lib/python3.7/dist-packages (from matplotlib->stable-baselines3) (2.8.2)\n",
            "Requirement already satisfied: six>=1.5 in /usr/local/lib/python3.7/dist-packages (from python-dateutil>=2.1->matplotlib->stable-baselines3) (1.15.0)\n",
            "Requirement already satisfied: pytz>=2017.2 in /usr/local/lib/python3.7/dist-packages (from pandas->stable-baselines3) (2018.9)\n",
            "Installing collected packages: stable-baselines3\n",
            "Successfully installed stable-baselines3-1.3.0\n"
          ]
        }
      ]
    },
    {
      "cell_type": "code",
      "metadata": {
        "id": "deq0in1i1iM7"
      },
      "source": [
        "import os\n",
        "import Box2D\n",
        "import pyglet\n",
        "import imageio\n",
        "os.system(\"Xvfb :1 -screen 0 1024x768x24 &\")\n",
        "os.environ['DISPLAY'] = ':1'"
      ],
      "execution_count": 3,
      "outputs": []
    },
    {
      "cell_type": "code",
      "metadata": {
        "id": "954_wRxQtHoe"
      },
      "source": [
        "import gym\n",
        "import torch\n",
        "import numpy as np\n",
        "import torch.nn as nn\n",
        "import torch.nn.functional as F\n",
        "from stable_baselines3.common.vec_env import SubprocVecEnv\n",
        "import multiprocessing\n"
      ],
      "execution_count": 4,
      "outputs": []
    },
    {
      "cell_type": "code",
      "source": [
        ""
      ],
      "metadata": {
        "id": "8sWOcdBXz0OQ"
      },
      "execution_count": null,
      "outputs": []
    },
    {
      "cell_type": "markdown",
      "source": [
        "# Test Env"
      ],
      "metadata": {
        "id": "vP7-384nq68Q"
      }
    },
    {
      "cell_type": "code",
      "source": [
        "env_id = \"LunarLanderContinuous-v2\"\n",
        "env = gym.make(env_id)\n"
      ],
      "metadata": {
        "id": "pJLrFY2yqygl"
      },
      "execution_count": 5,
      "outputs": []
    },
    {
      "cell_type": "code",
      "source": [
        "env.reset()"
      ],
      "metadata": {
        "colab": {
          "base_uri": "https://localhost:8080/"
        },
        "id": "KaCGLNAVzc5f",
        "outputId": "ac5ab972-98cc-416d-bfec-271f5a05a823"
      },
      "execution_count": 6,
      "outputs": [
        {
          "output_type": "execute_result",
          "data": {
            "text/plain": [
              "array([-0.00528822,  1.4155146 , -0.5356595 ,  0.20417766,  0.00613458,\n",
              "        0.12133496,  0.        ,  0.        ], dtype=float32)"
            ]
          },
          "metadata": {},
          "execution_count": 6
        }
      ]
    },
    {
      "cell_type": "code",
      "source": [
        "env.action_space.shape, env.observation_space.shape"
      ],
      "metadata": {
        "colab": {
          "base_uri": "https://localhost:8080/"
        },
        "id": "Y5Jx9DjLziVh",
        "outputId": "e13a1622-9ba0-49fc-a2da-34e02a8a0fe8"
      },
      "execution_count": 7,
      "outputs": [
        {
          "output_type": "execute_result",
          "data": {
            "text/plain": [
              "((2,), (8,))"
            ]
          },
          "metadata": {},
          "execution_count": 7
        }
      ]
    },
    {
      "cell_type": "code",
      "source": [
        "for episode in range(1): \n",
        "    observation = env.reset()\n",
        "    for step in range(1):\n",
        "        action = env.action_space.sample()  # or given a custom model, action = policy(observation)\n",
        "        observation, reward, done, info = env.step(action)\n",
        "        print(observation, reward, done, info, action)"
      ],
      "metadata": {
        "id": "w5VZUesWzlEn",
        "colab": {
          "base_uri": "https://localhost:8080/"
        },
        "outputId": "234ef93a-89da-4f5b-a2f2-04753f56e8b6"
      },
      "execution_count": 8,
      "outputs": [
        {
          "output_type": "stream",
          "name": "stdout",
          "text": [
            "[-0.01534519  1.4182618  -0.7760848   0.15024614  0.01759557  0.17398687\n",
            "  0.          0.        ] -0.5834078874543138 False {} [-0.33294398 -0.08262137]\n"
          ]
        }
      ]
    },
    {
      "cell_type": "markdown",
      "source": [
        "# ActorCritic Model"
      ],
      "metadata": {
        "id": "gK8QXZh40b8u"
      }
    },
    {
      "cell_type": "markdown",
      "source": [
        ""
      ],
      "metadata": {
        "id": "9bs5HckwAY2t"
      }
    },
    {
      "cell_type": "code",
      "source": [
        "class ActorCritic(nn.Module):\n",
        "\n",
        "  def __init__(self, state_dim, action_dim, std_init):\n",
        "    super(ActorCritic,self).__init__()\n",
        "\n",
        "    # TBD switch to variable std\n",
        "\n",
        "    self.action_dim = action_dim\n",
        "    self.state_dim = state_dim\n",
        "    self.critic = nn.Sequential(\n",
        "        nn.Linear(self.state_dim, 64),\n",
        "        nn.Tanh(),\n",
        "        nn.Linear(64, 64),\n",
        "        nn.Tanh(),\n",
        "        nn.Linear(64, 1)\n",
        "    )\n",
        "\n",
        "    self.actor = nn.Sequential(\n",
        "        nn.Linear(self.state_dim, 64),\n",
        "        nn.Tanh(),\n",
        "        nn.Linear(64, 64),\n",
        "        nn.Tanh(),\n",
        "        nn.Linear(64, self.action_dim),\n",
        "        nn.Tanh()\n",
        "    )\n",
        "\n",
        "    # covariance for Multivariate Normal policy\n",
        "    self.action_vars = torch.full((self.action_dim,), std_init * std_init)\n",
        "    self.cov_mat = torch.diag(self.action_vars).unsqueeze(dim=0)  # do we need the unsqueeze? \n",
        "\n",
        "  def get_action(self, state):\n",
        "    means = self.actor(state)\n",
        "    policy = torch.distributions.MultivariateNormal(means, self.cov_mat)\n",
        "\n",
        "    return policy.sample()\n",
        "\n",
        "    \n",
        "  def get_value(self,state):\n",
        "    return self.critic(state)\n",
        "\n",
        "  \n",
        "\n"
      ],
      "metadata": {
        "id": "W9PY6lVq0e8R"
      },
      "execution_count": 9,
      "outputs": []
    },
    {
      "cell_type": "code",
      "source": [
        "ac = ActorCritic(env.observation_space.shape[0], env.action_space.shape[0], 0.05)"
      ],
      "metadata": {
        "id": "DnwAkRawFWXZ"
      },
      "execution_count": 10,
      "outputs": []
    },
    {
      "cell_type": "code",
      "source": [
        "states = torch.rand"
      ],
      "metadata": {
        "id": "jQ7OHrqFTgQX"
      },
      "execution_count": 11,
      "outputs": []
    },
    {
      "cell_type": "code",
      "source": [
        "pi = ac.get_action(torch.tensor([observation, observation]))"
      ],
      "metadata": {
        "id": "nKyi3OVFG3u6",
        "colab": {
          "base_uri": "https://localhost:8080/"
        },
        "outputId": "578f1863-6943-45b0-d7bc-6d1f519af014"
      },
      "execution_count": 12,
      "outputs": [
        {
          "output_type": "stream",
          "name": "stderr",
          "text": [
            "/usr/local/lib/python3.7/dist-packages/ipykernel_launcher.py:1: UserWarning: Creating a tensor from a list of numpy.ndarrays is extremely slow. Please consider converting the list to a single numpy.ndarray with numpy.array() before converting to a tensor. (Triggered internally at  ../torch/csrc/utils/tensor_new.cpp:201.)\n",
            "  \"\"\"Entry point for launching an IPython kernel.\n"
          ]
        }
      ]
    },
    {
      "cell_type": "markdown",
      "source": [
        "# Buffer"
      ],
      "metadata": {
        "id": "t54lAN3FWCRd"
      }
    },
    {
      "cell_type": "code",
      "source": [
        "class Buffer:\n",
        "  def __init__(self,state_dim, action_dim ):\n",
        "    #self.num_actors = num_actors\n",
        "    #self.max_timesteps = max_timestep\n",
        "    self.state_dim = state_dim\n",
        "    self.action_dim = action_dim\n",
        "    self.buffer = torch.zeros_like([])\n",
        "  def add_transion(self):\n",
        "    return None"
      ],
      "metadata": {
        "id": "L0F9GZ02IbAw"
      },
      "execution_count": 13,
      "outputs": []
    },
    {
      "cell_type": "markdown",
      "source": [
        "# Envs"
      ],
      "metadata": {
        "id": "FWJeHwb1WEbb"
      }
    },
    {
      "cell_type": "code",
      "source": [
        "def make_env(env_id: str, rank: int, seed: int = 0):\n",
        "  def _init():\n",
        "    env = gym.make(env_id)\n",
        "    env.seed(seed + rank)\n",
        "    return env\n",
        "  torch.manual_seed(seed)\n",
        "  return _init\n",
        "\n",
        "num_cpu = 4\n",
        "env_p = SubprocVecEnv([make_env(env_id, i) for i in range(num_cpu)])\n"
      ],
      "metadata": {
        "id": "u8B6zMC4WuvZ"
      },
      "execution_count": 14,
      "outputs": []
    },
    {
      "cell_type": "code",
      "source": [
        "obs = torch.tensor(env_p.reset())\n",
        "obs"
      ],
      "metadata": {
        "id": "_MyWS3NnjdbV",
        "colab": {
          "base_uri": "https://localhost:8080/"
        },
        "outputId": "056a8146-3771-4e5d-9d57-55bcde46316d"
      },
      "execution_count": 15,
      "outputs": [
        {
          "output_type": "execute_result",
          "data": {
            "text/plain": [
              "tensor([[-5.9156e-04,  1.4135e+00, -5.9936e-02,  1.1277e-01,  6.9229e-04,\n",
              "          1.3576e-02,  0.0000e+00,  0.0000e+00],\n",
              "        [-5.2567e-03,  1.3989e+00, -5.3248e-01, -5.3348e-01,  6.0981e-03,\n",
              "          1.2061e-01,  0.0000e+00,  0.0000e+00],\n",
              "        [-4.0088e-03,  1.4072e+00, -4.0605e-01, -1.6675e-01,  4.6519e-03,\n",
              "          9.1977e-02,  0.0000e+00,  0.0000e+00],\n",
              "        [-7.2308e-03,  1.4090e+00, -7.3242e-01, -8.7516e-02,  8.3855e-03,\n",
              "          1.6590e-01,  0.0000e+00,  0.0000e+00]])"
            ]
          },
          "metadata": {},
          "execution_count": 15
        }
      ]
    },
    {
      "cell_type": "code",
      "source": [
        "actions = ac.get_action(obs).numpy()\n",
        "actions"
      ],
      "metadata": {
        "colab": {
          "base_uri": "https://localhost:8080/"
        },
        "id": "J6wSbtkkjhaE",
        "outputId": "3973c3b6-aaa3-4f48-ed40-64a01165a64d"
      },
      "execution_count": 16,
      "outputs": [
        {
          "output_type": "execute_result",
          "data": {
            "text/plain": [
              "array([[-0.02091479,  0.021314  ],\n",
              "       [-0.21645916,  0.02415736],\n",
              "       [-0.16103895, -0.06214209],\n",
              "       [-0.09780074,  0.02694974]], dtype=float32)"
            ]
          },
          "metadata": {},
          "execution_count": 16
        }
      ]
    },
    {
      "cell_type": "code",
      "source": [
        "env_p.step_async(actions)"
      ],
      "metadata": {
        "id": "4qn17gchkRr1"
      },
      "execution_count": 17,
      "outputs": []
    },
    {
      "cell_type": "code",
      "source": [
        "env_p.step_wait()"
      ],
      "metadata": {
        "colab": {
          "base_uri": "https://localhost:8080/"
        },
        "id": "ml6n-0bjkqaX",
        "outputId": "5c4a75dd-1712-43f2-bacd-c846b2fad650"
      },
      "execution_count": 18,
      "outputs": [
        {
          "output_type": "execute_result",
          "data": {
            "text/plain": [
              "(array([[-1.18331914e-03,  1.41541684e+00, -5.98544367e-02,\n",
              "          8.70871544e-02,  1.36317231e-03,  1.34195890e-02,\n",
              "          0.00000000e+00,  0.00000000e+00],\n",
              "        [-1.05140684e-02,  1.38633800e+00, -5.31758964e-01,\n",
              "         -5.59106767e-01,  1.20580401e-02,  1.19209744e-01,\n",
              "          0.00000000e+00,  0.00000000e+00],\n",
              "        [-8.01782589e-03,  1.40283966e+00, -4.05504376e-01,\n",
              "         -1.92408934e-01,  9.19678714e-03,  9.09073725e-02,\n",
              "          0.00000000e+00,  0.00000000e+00],\n",
              "        [-1.44620892e-02,  1.40640640e+00, -7.31432617e-01,\n",
              "         -1.13186173e-01,  1.65834818e-02,  1.63975552e-01,\n",
              "          0.00000000e+00,  0.00000000e+00]], dtype=float32),\n",
              " array([ 1.94054617, -1.12638708, -1.01123009, -0.82140293]),\n",
              " array([False, False, False, False]),\n",
              " ({}, {}, {}, {}))"
            ]
          },
          "metadata": {},
          "execution_count": 18
        }
      ]
    },
    {
      "cell_type": "code",
      "source": [
        "env_p.step_async(actions)\n",
        "observation, reward, done, information = env_p.step_wait()\n",
        "print(len(done))\n",
        "\n"
      ],
      "metadata": {
        "colab": {
          "base_uri": "https://localhost:8080/"
        },
        "id": "HXrsWo7Rk9_t",
        "outputId": "cf1119b5-8e5a-42be-8f56-3bfd55084dde"
      },
      "execution_count": 19,
      "outputs": [
        {
          "output_type": "stream",
          "name": "stdout",
          "text": [
            "4\n"
          ]
        }
      ]
    },
    {
      "cell_type": "code",
      "source": [
        "env_p.action_space.shape"
      ],
      "metadata": {
        "colab": {
          "base_uri": "https://localhost:8080/"
        },
        "id": "x_rf01h3dH7U",
        "outputId": "da8db1ba-eafb-492b-bb51-76dff8b43774"
      },
      "execution_count": 20,
      "outputs": [
        {
          "output_type": "execute_result",
          "data": {
            "text/plain": [
              "(2,)"
            ]
          },
          "metadata": {},
          "execution_count": 20
        }
      ]
    },
    {
      "cell_type": "markdown",
      "source": [
        "# PPO Class: "
      ],
      "metadata": {
        "id": "9cSJ3GJ9c6ZN"
      }
    },
    {
      "cell_type": "markdown",
      "source": [
        "* sort out seeds\n",
        "* to.device()\n"
      ],
      "metadata": {
        "id": "dD6i_9gEhuwc"
      }
    },
    {
      "cell_type": "code",
      "source": [
        "# Actual cores in Colab is too low so we will stick with our values!\n",
        "num_cpus = multiprocessing.cpu_count()\n",
        "num_cpus"
      ],
      "metadata": {
        "colab": {
          "base_uri": "https://localhost:8080/"
        },
        "id": "x9j6ZeAHe3ge",
        "outputId": "a5ec9dde-7320-4efb-cd1d-4678de1d9145"
      },
      "execution_count": 21,
      "outputs": [
        {
          "output_type": "execute_result",
          "data": {
            "text/plain": [
              "2"
            ]
          },
          "metadata": {},
          "execution_count": 21
        }
      ]
    },
    {
      "cell_type": "code",
      "source": [
        "config = {\n",
        "    'std_init': 0.05,\n",
        "    'env_id': 'LunarLanderContinuous-v2',\n",
        "    'num_workers': 4,  # rank (seed) / envs / N\n",
        "    'num_epochs': 10, # K number of \n",
        "    'num_iterations': 10, # number of times we collect a dataset \n",
        "    'max_timesteps': 500, # T\n",
        "    'epsilon': 0.2,  # clipping radius\n",
        "\n",
        "}"
      ],
      "metadata": {
        "id": "RPAQJUMXbPzD"
      },
      "execution_count": 22,
      "outputs": []
    },
    {
      "cell_type": "code",
      "source": [
        "torch.zeros((4,500, obs.shape[0])).shape\n"
      ],
      "metadata": {
        "colab": {
          "base_uri": "https://localhost:8080/"
        },
        "id": "A05eDl8p5l_y",
        "outputId": "4eb0144a-b5f0-4abf-b199-2e77873296a5"
      },
      "execution_count": 26,
      "outputs": [
        {
          "output_type": "execute_result",
          "data": {
            "text/plain": [
              "torch.Size([4, 500, 4])"
            ]
          },
          "metadata": {},
          "execution_count": 26
        }
      ]
    },
    {
      "cell_type": "code",
      "source": [
        "class PPO:\n",
        "  def __init__(self, config):\n",
        "\n",
        "    self.config = config\n",
        "    # self.num_cpus = multiprocessing.cpu_count()\n",
        "\n",
        "    self.envs = SubprocVecEnv([make_env(config['env_id'], i) for i in range(self.config['num_workers'])])\n",
        "\n",
        "    self.action_dim = self.envs.action_space.shape[0]\n",
        "    self.state_dim = self.envs.observation_space.shape[0]\n",
        "\n",
        "    self.model = ActorCritic(self.state_dim, self.action_dim, config['std_init'])\n",
        "\n",
        "  def create_rollout(self):\n",
        "\n",
        "    pass\n",
        "\n",
        "  def train(self): \n",
        "\n",
        "    # num_iterations = Number of updates: \n",
        "    for it in range(self.config['num_iterations']):\n",
        "\n",
        "      obs_batch = torch.zeros((self.config['max_timesteps'], self.config['num_workers'],  self.envs.observation_space.shape[0]))\n",
        "      action_batch = torch.zeros((self.config['max_timesteps'],self.config['num_workers'], self.envs.action_space.shape[0]))\n",
        "      reward_batch = torch.zeros((self.config['max_timesteps'],self.config['num_workers'], 1))\n",
        "      done_batch = torch.zeros((self.config['max_timesteps'],self.config['num_workers'], 1))\n",
        "      next_obs_batch = torch.zeros((self.config['max_timesteps'],self.config['num_workers'], self.envs.observation_space.shape[0]))\n",
        "      ratio_batch = torch.zeros((self.config['max_timesteps'],self.config['num_workers'], 1))\n",
        "      advantage_batch = torch.zeros((self.config['max_timesteps'],self.config['num_workers'], 1))\n",
        "      returns_batch = torch.zeros((self.config['max_timesteps'],self.config['num_workers'], 1))\n",
        "\n",
        "      obs = self.envs.reset()\n",
        "\n",
        "      # capture NT rollouts \n",
        "      for t in range(self.config['max_timesteps']):\n",
        "        actions = self.model.get_action(torch.tensor(obs)).numpy()\n",
        "        self.envs.step_async(actions)\n",
        "        next_obs, rewards, dones, infos = self.envs.step_wait()\n",
        "        \n",
        "        obs_batch[t] = torch.tensor(obs)\n",
        "        action_batch[t] = torch.tensor(actions)\n",
        "        reward_batch[t] = torch.tensor(rewards)\n",
        "        done_batch[t] = torch.tensor(dones)\n",
        "        next_obs_batch[t] = torch.tensor(next_obs)\n",
        "\n",
        "        obs = next_obs\n",
        "\n",
        "      # Calculate returns to go: STOPPED HERE!!\n",
        "      for t in range(self.config['max_timesteps']-1, -1, -1):\n",
        "        for worker in range(self.config['num_workers']):\n",
        "          pass\n",
        "\n",
        "\n",
        "      # Calculate Advantage: \n",
        "\n",
        "\n",
        "\n"
      ],
      "metadata": {
        "id": "9zcwpKAWZHhX"
      },
      "execution_count": 34,
      "outputs": []
    },
    {
      "cell_type": "code",
      "source": [
        "a = np.array([1,2,3,4])"
      ],
      "metadata": {
        "id": "f8AtfIs7r5Z9"
      },
      "execution_count": 33,
      "outputs": []
    },
    {
      "cell_type": "code",
      "source": [
        "tmp = torch.zeros([1])\n",
        "tmp[0]=True\n",
        "tmp"
      ],
      "metadata": {
        "colab": {
          "base_uri": "https://localhost:8080/"
        },
        "id": "EjQ85A4o-6xY",
        "outputId": "79ed50f4-7d6f-41c8-a209-93b4d310605e"
      },
      "execution_count": 31,
      "outputs": [
        {
          "output_type": "execute_result",
          "data": {
            "text/plain": [
              "tensor([1.])"
            ]
          },
          "metadata": {},
          "execution_count": 31
        }
      ]
    },
    {
      "cell_type": "code",
      "source": [
        "for t in range(10-1, -1, -1):\n",
        "  print(t)"
      ],
      "metadata": {
        "colab": {
          "base_uri": "https://localhost:8080/"
        },
        "id": "o4nUsnU0AIKu",
        "outputId": "789ee6fd-67f0-4649-fffe-cbac54345a2e"
      },
      "execution_count": 32,
      "outputs": [
        {
          "output_type": "stream",
          "name": "stdout",
          "text": [
            "9\n",
            "8\n",
            "7\n",
            "6\n",
            "5\n",
            "4\n",
            "3\n",
            "2\n",
            "1\n",
            "0\n"
          ]
        }
      ]
    },
    {
      "cell_type": "markdown",
      "source": [
        "## covariance stuff\n",
        "\n",
        "Src: https://github.com/nikhilbarhate99/PPO-PyTorch/blob/master/PPO_colab.ipynb"
      ],
      "metadata": {
        "id": "oq0kE1aYK881"
      }
    },
    {
      "cell_type": "code",
      "source": [
        "torch.full((2,), 3 * 3)"
      ],
      "metadata": {
        "id": "-CV739BEKnlo"
      },
      "execution_count": null,
      "outputs": []
    },
    {
      "cell_type": "code",
      "source": [
        "torch.diag(torch.full((2,), 3 * 3)).unsqueeze(dim=0)"
      ],
      "metadata": {
        "id": "H4k6ylE7KrKw"
      },
      "execution_count": null,
      "outputs": []
    },
    {
      "cell_type": "code",
      "source": [
        ""
      ],
      "metadata": {
        "id": "sEw_7RnIK5kX"
      },
      "execution_count": null,
      "outputs": []
    }
  ]
}