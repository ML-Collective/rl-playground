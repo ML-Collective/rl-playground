{
  "nbformat": 4,
  "nbformat_minor": 0,
  "metadata": {
    "colab": {
      "name": "PPO-v0.ipynb",
      "provenance": [],
      "collapsed_sections": []
    },
    "kernelspec": {
      "name": "python3",
      "display_name": "Python 3"
    },
    "language_info": {
      "name": "python"
    }
  },
  "cells": [
    {
      "cell_type": "markdown",
      "source": [
        "# Installations"
      ],
      "metadata": {
        "id": "v6b7vGWAq1V3"
      }
    },
    {
      "cell_type": "code",
      "execution_count": null,
      "metadata": {
        "colab": {
          "base_uri": "https://localhost:8080/"
        },
        "id": "aJsXm7tEqPlR",
        "outputId": "df23f316-f076-421f-9b07-998d0381bd05"
      },
      "outputs": [
        {
          "output_type": "stream",
          "name": "stdout",
          "text": [
            "Collecting box2d-py\n",
            "  Downloading box2d_py-2.3.8-cp37-cp37m-manylinux1_x86_64.whl (448 kB)\n",
            "\u001b[?25l\r\u001b[K     |▊                               | 10 kB 23.2 MB/s eta 0:00:01\r\u001b[K     |█▌                              | 20 kB 28.9 MB/s eta 0:00:01\r\u001b[K     |██▏                             | 30 kB 12.7 MB/s eta 0:00:01\r\u001b[K     |███                             | 40 kB 9.5 MB/s eta 0:00:01\r\u001b[K     |███▋                            | 51 kB 5.5 MB/s eta 0:00:01\r\u001b[K     |████▍                           | 61 kB 5.9 MB/s eta 0:00:01\r\u001b[K     |█████▏                          | 71 kB 5.6 MB/s eta 0:00:01\r\u001b[K     |█████▉                          | 81 kB 6.3 MB/s eta 0:00:01\r\u001b[K     |██████▋                         | 92 kB 4.8 MB/s eta 0:00:01\r\u001b[K     |███████▎                        | 102 kB 5.2 MB/s eta 0:00:01\r\u001b[K     |████████                        | 112 kB 5.2 MB/s eta 0:00:01\r\u001b[K     |████████▊                       | 122 kB 5.2 MB/s eta 0:00:01\r\u001b[K     |█████████▌                      | 133 kB 5.2 MB/s eta 0:00:01\r\u001b[K     |██████████▎                     | 143 kB 5.2 MB/s eta 0:00:01\r\u001b[K     |███████████                     | 153 kB 5.2 MB/s eta 0:00:01\r\u001b[K     |███████████▊                    | 163 kB 5.2 MB/s eta 0:00:01\r\u001b[K     |████████████▍                   | 174 kB 5.2 MB/s eta 0:00:01\r\u001b[K     |█████████████▏                  | 184 kB 5.2 MB/s eta 0:00:01\r\u001b[K     |█████████████▉                  | 194 kB 5.2 MB/s eta 0:00:01\r\u001b[K     |██████████████▋                 | 204 kB 5.2 MB/s eta 0:00:01\r\u001b[K     |███████████████▍                | 215 kB 5.2 MB/s eta 0:00:01\r\u001b[K     |████████████████                | 225 kB 5.2 MB/s eta 0:00:01\r\u001b[K     |████████████████▉               | 235 kB 5.2 MB/s eta 0:00:01\r\u001b[K     |█████████████████▌              | 245 kB 5.2 MB/s eta 0:00:01\r\u001b[K     |██████████████████▎             | 256 kB 5.2 MB/s eta 0:00:01\r\u001b[K     |███████████████████             | 266 kB 5.2 MB/s eta 0:00:01\r\u001b[K     |███████████████████▊            | 276 kB 5.2 MB/s eta 0:00:01\r\u001b[K     |████████████████████▌           | 286 kB 5.2 MB/s eta 0:00:01\r\u001b[K     |█████████████████████▏          | 296 kB 5.2 MB/s eta 0:00:01\r\u001b[K     |██████████████████████          | 307 kB 5.2 MB/s eta 0:00:01\r\u001b[K     |██████████████████████▋         | 317 kB 5.2 MB/s eta 0:00:01\r\u001b[K     |███████████████████████▍        | 327 kB 5.2 MB/s eta 0:00:01\r\u001b[K     |████████████████████████        | 337 kB 5.2 MB/s eta 0:00:01\r\u001b[K     |████████████████████████▉       | 348 kB 5.2 MB/s eta 0:00:01\r\u001b[K     |█████████████████████████▋      | 358 kB 5.2 MB/s eta 0:00:01\r\u001b[K     |██████████████████████████▎     | 368 kB 5.2 MB/s eta 0:00:01\r\u001b[K     |███████████████████████████     | 378 kB 5.2 MB/s eta 0:00:01\r\u001b[K     |███████████████████████████▊    | 389 kB 5.2 MB/s eta 0:00:01\r\u001b[K     |████████████████████████████▌   | 399 kB 5.2 MB/s eta 0:00:01\r\u001b[K     |█████████████████████████████▏  | 409 kB 5.2 MB/s eta 0:00:01\r\u001b[K     |██████████████████████████████  | 419 kB 5.2 MB/s eta 0:00:01\r\u001b[K     |██████████████████████████████▊ | 430 kB 5.2 MB/s eta 0:00:01\r\u001b[K     |███████████████████████████████▍| 440 kB 5.2 MB/s eta 0:00:01\r\u001b[K     |████████████████████████████████| 448 kB 5.2 MB/s \n",
            "\u001b[?25hInstalling collected packages: box2d-py\n",
            "Successfully installed box2d-py-2.3.8\n",
            "Requirement already satisfied: gym[Box_2D] in /usr/local/lib/python3.7/dist-packages (0.17.3)\n",
            "\u001b[33mWARNING: gym 0.17.3 does not provide the extra 'box_2d'\u001b[0m\n",
            "Requirement already satisfied: cloudpickle<1.7.0,>=1.2.0 in /usr/local/lib/python3.7/dist-packages (from gym[Box_2D]) (1.3.0)\n",
            "Requirement already satisfied: scipy in /usr/local/lib/python3.7/dist-packages (from gym[Box_2D]) (1.4.1)\n",
            "Requirement already satisfied: numpy>=1.10.4 in /usr/local/lib/python3.7/dist-packages (from gym[Box_2D]) (1.19.5)\n",
            "Requirement already satisfied: pyglet<=1.5.0,>=1.4.0 in /usr/local/lib/python3.7/dist-packages (from gym[Box_2D]) (1.5.0)\n",
            "Requirement already satisfied: future in /usr/local/lib/python3.7/dist-packages (from pyglet<=1.5.0,>=1.4.0->gym[Box_2D]) (0.16.0)\n"
          ]
        }
      ],
      "source": [
        "!pip3 install box2d-py\n",
        "!pip3 install gym[Box_2D]"
      ]
    },
    {
      "cell_type": "code",
      "metadata": {
        "id": "deq0in1i1iM7"
      },
      "source": [
        "import os\n",
        "import Box2D\n",
        "import pyglet\n",
        "import imageio\n",
        "os.system(\"Xvfb :1 -screen 0 1024x768x24 &\")\n",
        "os.environ['DISPLAY'] = ':1'"
      ],
      "execution_count": null,
      "outputs": []
    },
    {
      "cell_type": "code",
      "metadata": {
        "id": "954_wRxQtHoe"
      },
      "source": [
        "import gym\n",
        "import torch\n",
        "import numpy as np\n",
        "import torch.nn as nn\n",
        "import torch.nn.functional as F"
      ],
      "execution_count": null,
      "outputs": []
    },
    {
      "cell_type": "markdown",
      "source": [
        "# Test Env"
      ],
      "metadata": {
        "id": "vP7-384nq68Q"
      }
    },
    {
      "cell_type": "code",
      "source": [
        "env = gym.make(\"LunarLanderContinuous-v2\")"
      ],
      "metadata": {
        "id": "pJLrFY2yqygl"
      },
      "execution_count": null,
      "outputs": []
    },
    {
      "cell_type": "code",
      "source": [
        "env.reset()"
      ],
      "metadata": {
        "colab": {
          "base_uri": "https://localhost:8080/"
        },
        "id": "KaCGLNAVzc5f",
        "outputId": "d737ac28-5d87-442b-d27a-6856fef850c9"
      },
      "execution_count": null,
      "outputs": [
        {
          "output_type": "execute_result",
          "data": {
            "text/plain": [
              "array([ 0.00551939,  1.4204907 ,  0.559039  ,  0.42535397, -0.00638881,\n",
              "       -0.12663053,  0.        ,  0.        ], dtype=float32)"
            ]
          },
          "metadata": {},
          "execution_count": 11
        }
      ]
    },
    {
      "cell_type": "code",
      "source": [
        "env.action_space, env.observation_space"
      ],
      "metadata": {
        "colab": {
          "base_uri": "https://localhost:8080/"
        },
        "id": "Y5Jx9DjLziVh",
        "outputId": "e1d856e1-0924-463d-cbb1-2c625bbfd0c6"
      },
      "execution_count": null,
      "outputs": [
        {
          "output_type": "execute_result",
          "data": {
            "text/plain": [
              "(Box(-1.0, 1.0, (2,), float32), Box(-inf, inf, (8,), float32))"
            ]
          },
          "metadata": {},
          "execution_count": 12
        }
      ]
    },
    {
      "cell_type": "code",
      "source": [
        "for episode in range(1): \n",
        "    observation = env.reset()\n",
        "    for step in range(1):\n",
        "        action = env.action_space.sample()  # or given a custom model, action = policy(observation)\n",
        "        observation, reward, done, info = env.step(action)\n",
        "        print(observation, reward, done, info, action)"
      ],
      "metadata": {
        "id": "w5VZUesWzlEn",
        "colab": {
          "base_uri": "https://localhost:8080/"
        },
        "outputId": "ffc6fa4e-1ed3-4d0a-a097-f6c36eb3aa7c"
      },
      "execution_count": null,
      "outputs": [
        {
          "output_type": "stream",
          "name": "stdout",
          "text": [
            "[ 0.00684528  1.4323684   0.3461917   0.4637565  -0.00783924 -0.0776073\n",
            "  0.          0.        ] 0.6751802091694685 False {} [-0.97176886  0.20109253]\n"
          ]
        }
      ]
    },
    {
      "cell_type": "code",
      "source": [
        ""
      ],
      "metadata": {
        "id": "8sWOcdBXz0OQ"
      },
      "execution_count": null,
      "outputs": []
    },
    {
      "cell_type": "markdown",
      "source": [
        "# First skeleton"
      ],
      "metadata": {
        "id": "gK8QXZh40b8u"
      }
    },
    {
      "cell_type": "markdown",
      "source": [
        ""
      ],
      "metadata": {
        "id": "9bs5HckwAY2t"
      }
    },
    {
      "cell_type": "code",
      "source": [
        "class ActorCritic(nn.Module):\n",
        "\n",
        "  def __init__(self, state_dim, action_dim, std_init):\n",
        "    super(ActorCritic).__init__()\n",
        "\n",
        "    # TBD switch to variable std\n",
        "\n",
        "    self.critic = nn.Sequential(\n",
        "        nn.Linear(state_dim, 64),\n",
        "        nn.Tanh(),\n",
        "        nn.Linear(64, 64),\n",
        "        nn.Tanh(),\n",
        "        nn.Linear(64, 1)\n",
        "    )\n",
        "\n",
        "    self.actor = nn.Sequential(\n",
        "        nn.Linear(state_dim, 64),\n",
        "        nn.Tanh(),\n",
        "        nn.Linear(64, 64),\n",
        "        nn.Tanh(),\n",
        "        nn.Linear(64, action_dim),\n",
        "        nn.Tanh()\n",
        "    )\n",
        "\n",
        "    self.action_vars = torch.full((self.action_dim,), std_init * std_init)\n",
        "    self.cov_mat = torch.diag(self.action_vars).unsqueeze(dim=0)  # do we need the unsqueeze? \n",
        "\n",
        "\n",
        "  def get_policy(self, state):\n",
        "    means = self.actor(state)\n",
        "    policy = torch.distributions.MultivariateNormal(means, std)\n",
        "\n"
      ],
      "metadata": {
        "id": "W9PY6lVq0e8R"
      },
      "execution_count": null,
      "outputs": []
    },
    {
      "cell_type": "markdown",
      "source": [
        "## covariance stuff\n",
        "\n",
        "Src: https://github.com/nikhilbarhate99/PPO-PyTorch/blob/master/PPO_colab.ipynb"
      ],
      "metadata": {
        "id": "oq0kE1aYK881"
      }
    },
    {
      "cell_type": "code",
      "source": [
        "torch.full((2,), 3 * 3)"
      ],
      "metadata": {
        "colab": {
          "base_uri": "https://localhost:8080/"
        },
        "id": "-CV739BEKnlo",
        "outputId": "5e2d3a1f-5ecd-4292-8aa8-fe4fe3f036a3"
      },
      "execution_count": null,
      "outputs": [
        {
          "output_type": "execute_result",
          "data": {
            "text/plain": [
              "tensor([9, 9])"
            ]
          },
          "metadata": {},
          "execution_count": 18
        }
      ]
    },
    {
      "cell_type": "code",
      "source": [
        "torch.diag(torch.full((2,), 3 * 3)).unsqueeze(dim=0)"
      ],
      "metadata": {
        "colab": {
          "base_uri": "https://localhost:8080/"
        },
        "id": "H4k6ylE7KrKw",
        "outputId": "bd1aa1a2-40cb-42b8-bfae-9821bf5810cd"
      },
      "execution_count": null,
      "outputs": [
        {
          "output_type": "execute_result",
          "data": {
            "text/plain": [
              "tensor([[[9, 0],\n",
              "         [0, 9]]])"
            ]
          },
          "metadata": {},
          "execution_count": 19
        }
      ]
    },
    {
      "cell_type": "code",
      "source": [
        ""
      ],
      "metadata": {
        "id": "sEw_7RnIK5kX"
      },
      "execution_count": null,
      "outputs": []
    }
  ]
}