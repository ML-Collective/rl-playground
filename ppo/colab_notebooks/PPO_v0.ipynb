{
  "nbformat": 4,
  "nbformat_minor": 0,
  "metadata": {
    "colab": {
      "name": "PPO-v0.ipynb",
      "provenance": [],
      "collapsed_sections": [
        "t54lAN3FWCRd"
      ],
      "include_colab_link": true
    },
    "kernelspec": {
      "name": "python3",
      "display_name": "Python 3"
    },
    "language_info": {
      "name": "python"
    }
  },
  "cells": [
    {
      "cell_type": "markdown",
      "metadata": {
        "id": "view-in-github",
        "colab_type": "text"
      },
      "source": [
        "<a href=\"https://colab.research.google.com/github/moodlep/rl-playground/blob/main/ppo/colab_notebooks/PPO_v0.ipynb\" target=\"_parent\"><img src=\"https://colab.research.google.com/assets/colab-badge.svg\" alt=\"Open In Colab\"/></a>"
      ]
    },
    {
      "cell_type": "markdown",
      "source": [
        "# Installations"
      ],
      "metadata": {
        "id": "v6b7vGWAq1V3"
      }
    },
    {
      "cell_type": "code",
      "execution_count": null,
      "metadata": {
        "colab": {
          "base_uri": "https://localhost:8080/"
        },
        "id": "aJsXm7tEqPlR",
        "outputId": "b2e88880-ade6-4b57-8f88-0e0deefed6db"
      },
      "outputs": [
        {
          "output_type": "stream",
          "name": "stdout",
          "text": [
            "Requirement already satisfied: box2d-py in /usr/local/lib/python3.7/dist-packages (2.3.8)\n",
            "Requirement already satisfied: gym[Box_2D] in /usr/local/lib/python3.7/dist-packages (0.17.3)\n",
            "\u001b[33mWARNING: gym 0.17.3 does not provide the extra 'box_2d'\u001b[0m\n",
            "Requirement already satisfied: numpy>=1.10.4 in /usr/local/lib/python3.7/dist-packages (from gym[Box_2D]) (1.19.5)\n",
            "Requirement already satisfied: cloudpickle<1.7.0,>=1.2.0 in /usr/local/lib/python3.7/dist-packages (from gym[Box_2D]) (1.3.0)\n",
            "Requirement already satisfied: scipy in /usr/local/lib/python3.7/dist-packages (from gym[Box_2D]) (1.4.1)\n",
            "Requirement already satisfied: pyglet<=1.5.0,>=1.4.0 in /usr/local/lib/python3.7/dist-packages (from gym[Box_2D]) (1.5.0)\n",
            "Requirement already satisfied: future in /usr/local/lib/python3.7/dist-packages (from pyglet<=1.5.0,>=1.4.0->gym[Box_2D]) (0.16.0)\n"
          ]
        }
      ],
      "source": [
        "!pip3 install box2d-py\n",
        "!pip3 install gym[Box_2D]"
      ]
    },
    {
      "cell_type": "code",
      "source": [
        "!pip install stable-baselines3"
      ],
      "metadata": {
        "colab": {
          "base_uri": "https://localhost:8080/"
        },
        "id": "FKKl_RhVVV0k",
        "outputId": "96fc6aa1-27f3-4eb9-bfcc-4f401f579423"
      },
      "execution_count": null,
      "outputs": [
        {
          "output_type": "stream",
          "name": "stdout",
          "text": [
            "Requirement already satisfied: stable-baselines3 in /usr/local/lib/python3.7/dist-packages (1.3.0)\n",
            "Requirement already satisfied: gym<0.20,>=0.17 in /usr/local/lib/python3.7/dist-packages (from stable-baselines3) (0.17.3)\n",
            "Requirement already satisfied: cloudpickle in /usr/local/lib/python3.7/dist-packages (from stable-baselines3) (1.3.0)\n",
            "Requirement already satisfied: torch>=1.8.1 in /usr/local/lib/python3.7/dist-packages (from stable-baselines3) (1.10.0+cu111)\n",
            "Requirement already satisfied: pandas in /usr/local/lib/python3.7/dist-packages (from stable-baselines3) (1.1.5)\n",
            "Requirement already satisfied: matplotlib in /usr/local/lib/python3.7/dist-packages (from stable-baselines3) (3.2.2)\n",
            "Requirement already satisfied: numpy in /usr/local/lib/python3.7/dist-packages (from stable-baselines3) (1.19.5)\n",
            "Requirement already satisfied: scipy in /usr/local/lib/python3.7/dist-packages (from gym<0.20,>=0.17->stable-baselines3) (1.4.1)\n",
            "Requirement already satisfied: pyglet<=1.5.0,>=1.4.0 in /usr/local/lib/python3.7/dist-packages (from gym<0.20,>=0.17->stable-baselines3) (1.5.0)\n",
            "Requirement already satisfied: future in /usr/local/lib/python3.7/dist-packages (from pyglet<=1.5.0,>=1.4.0->gym<0.20,>=0.17->stable-baselines3) (0.16.0)\n",
            "Requirement already satisfied: typing-extensions in /usr/local/lib/python3.7/dist-packages (from torch>=1.8.1->stable-baselines3) (3.10.0.2)\n",
            "Requirement already satisfied: cycler>=0.10 in /usr/local/lib/python3.7/dist-packages (from matplotlib->stable-baselines3) (0.11.0)\n",
            "Requirement already satisfied: pyparsing!=2.0.4,!=2.1.2,!=2.1.6,>=2.0.1 in /usr/local/lib/python3.7/dist-packages (from matplotlib->stable-baselines3) (3.0.6)\n",
            "Requirement already satisfied: python-dateutil>=2.1 in /usr/local/lib/python3.7/dist-packages (from matplotlib->stable-baselines3) (2.8.2)\n",
            "Requirement already satisfied: kiwisolver>=1.0.1 in /usr/local/lib/python3.7/dist-packages (from matplotlib->stable-baselines3) (1.3.2)\n",
            "Requirement already satisfied: six>=1.5 in /usr/local/lib/python3.7/dist-packages (from python-dateutil>=2.1->matplotlib->stable-baselines3) (1.15.0)\n",
            "Requirement already satisfied: pytz>=2017.2 in /usr/local/lib/python3.7/dist-packages (from pandas->stable-baselines3) (2018.9)\n"
          ]
        }
      ]
    },
    {
      "cell_type": "code",
      "metadata": {
        "id": "deq0in1i1iM7"
      },
      "source": [
        "import os\n",
        "import Box2D\n",
        "import pyglet\n",
        "import imageio\n",
        "os.system(\"Xvfb :1 -screen 0 1024x768x24 &\")\n",
        "os.environ['DISPLAY'] = ':1'"
      ],
      "execution_count": null,
      "outputs": []
    },
    {
      "cell_type": "code",
      "metadata": {
        "id": "954_wRxQtHoe"
      },
      "source": [
        "import gym\n",
        "import torch\n",
        "import numpy as np\n",
        "import torch.nn as nn\n",
        "import torch.nn.functional as F\n",
        "from stable_baselines3.common.vec_env import SubprocVecEnv\n",
        "import multiprocessing\n"
      ],
      "execution_count": null,
      "outputs": []
    },
    {
      "cell_type": "code",
      "source": [
        ""
      ],
      "metadata": {
        "id": "8sWOcdBXz0OQ"
      },
      "execution_count": null,
      "outputs": []
    },
    {
      "cell_type": "markdown",
      "source": [
        "# Test Env"
      ],
      "metadata": {
        "id": "vP7-384nq68Q"
      }
    },
    {
      "cell_type": "code",
      "source": [
        "env_id = \"LunarLanderContinuous-v2\"\n",
        "env = gym.make(env_id)\n"
      ],
      "metadata": {
        "id": "pJLrFY2yqygl"
      },
      "execution_count": null,
      "outputs": []
    },
    {
      "cell_type": "code",
      "source": [
        "env.reset()"
      ],
      "metadata": {
        "colab": {
          "base_uri": "https://localhost:8080/"
        },
        "id": "KaCGLNAVzc5f",
        "outputId": "382dee49-3a0f-472b-ae0e-0a6441dfcbb7"
      },
      "execution_count": null,
      "outputs": [
        {
          "output_type": "execute_result",
          "data": {
            "text/plain": [
              "array([-3.8595201e-04,  1.4057657e+00, -3.9102796e-02, -2.2908369e-01,\n",
              "        4.5396067e-04,  8.8573862e-03,  0.0000000e+00,  0.0000000e+00],\n",
              "      dtype=float32)"
            ]
          },
          "metadata": {},
          "execution_count": 22
        }
      ]
    },
    {
      "cell_type": "code",
      "source": [
        "env.action_space.shape, env.observation_space.shape"
      ],
      "metadata": {
        "colab": {
          "base_uri": "https://localhost:8080/"
        },
        "id": "Y5Jx9DjLziVh",
        "outputId": "1dd32d94-1985-4b71-d190-a4f0e622a110"
      },
      "execution_count": null,
      "outputs": [
        {
          "output_type": "execute_result",
          "data": {
            "text/plain": [
              "((2,), (8,))"
            ]
          },
          "metadata": {},
          "execution_count": 23
        }
      ]
    },
    {
      "cell_type": "code",
      "source": [
        "for episode in range(1): \n",
        "    observation = env.reset()\n",
        "    for step in range(1):\n",
        "        action = env.action_space.sample()  # or given a custom model, action = policy(observation)\n",
        "        observation, reward, done, info = env.step(action)\n",
        "        print(observation, reward, done, info, action)"
      ],
      "metadata": {
        "id": "w5VZUesWzlEn",
        "colab": {
          "base_uri": "https://localhost:8080/"
        },
        "outputId": "4a69f74b-c3fd-4819-cfd8-e5c1d153d3aa"
      },
      "execution_count": null,
      "outputs": [
        {
          "output_type": "stream",
          "name": "stdout",
          "text": [
            "[-0.01583881  1.4240321  -0.79821694  0.29294428  0.01856153  0.18684572\n",
            "  0.          0.        ] -1.3144958995434195 False {} [ 0.84353274 -0.34593865]\n"
          ]
        }
      ]
    },
    {
      "cell_type": "markdown",
      "source": [
        "# ActorCritic Model"
      ],
      "metadata": {
        "id": "gK8QXZh40b8u"
      }
    },
    {
      "cell_type": "markdown",
      "source": [
        ""
      ],
      "metadata": {
        "id": "9bs5HckwAY2t"
      }
    },
    {
      "cell_type": "code",
      "source": [
        "class ActorCritic(nn.Module):\n",
        "\n",
        "  def __init__(self, state_dim, action_dim, std_init):\n",
        "    super(ActorCritic,self).__init__()\n",
        "\n",
        "    # TBD switch to variable std\n",
        "\n",
        "    self.action_dim = action_dim\n",
        "    self.state_dim = state_dim\n",
        "    self.critic = nn.Sequential(\n",
        "        nn.Linear(self.state_dim, 64),\n",
        "        nn.Tanh(),\n",
        "        nn.Linear(64, 64),\n",
        "        nn.Tanh(),\n",
        "        nn.Linear(64, 1)\n",
        "    )\n",
        "\n",
        "    self.actor = nn.Sequential(\n",
        "        nn.Linear(self.state_dim, 64),\n",
        "        nn.Tanh(),\n",
        "        nn.Linear(64, 64),\n",
        "        nn.Tanh(),\n",
        "        nn.Linear(64, self.action_dim),\n",
        "        nn.Tanh()\n",
        "    )\n",
        "\n",
        "    # covariance for Multivariate Normal policy\n",
        "    self.action_vars = torch.full((self.action_dim,), std_init * std_init)\n",
        "    self.cov_mat = torch.diag(self.action_vars).unsqueeze(dim=0)  # do we need the unsqueeze? \n",
        "\n",
        "  def get_action(self, state):\n",
        "    means = self.actor(state)\n",
        "    policy = torch.distributions.MultivariateNormal(means, self.cov_mat)\n",
        "\n",
        "    return policy.sample()\n",
        "\n",
        "    \n",
        "  def get_value(self,state):\n",
        "    return self.critic(state)\n",
        "\n",
        "  \n",
        "\n"
      ],
      "metadata": {
        "id": "W9PY6lVq0e8R"
      },
      "execution_count": null,
      "outputs": []
    },
    {
      "cell_type": "code",
      "source": [
        "ac = ActorCritic(env.observation_space.shape[0], env.action_space.shape[0], 0.05)"
      ],
      "metadata": {
        "id": "DnwAkRawFWXZ"
      },
      "execution_count": null,
      "outputs": []
    },
    {
      "cell_type": "code",
      "source": [
        "states = torch.rand"
      ],
      "metadata": {
        "id": "jQ7OHrqFTgQX"
      },
      "execution_count": null,
      "outputs": []
    },
    {
      "cell_type": "code",
      "source": [
        "pi = ac.get_action(torch.tensor([observation, observation]))"
      ],
      "metadata": {
        "id": "nKyi3OVFG3u6"
      },
      "execution_count": null,
      "outputs": []
    },
    {
      "cell_type": "markdown",
      "source": [
        "# Buffer"
      ],
      "metadata": {
        "id": "t54lAN3FWCRd"
      }
    },
    {
      "cell_type": "code",
      "source": [
        "class Buffer:\n",
        "  def __init__(self,state_dim, action_dim ):\n",
        "    #self.num_actors = num_actors\n",
        "    #self.max_timesteps = max_timestep\n",
        "    self.state_dim = state_dim\n",
        "    self.action_dim = action_dim\n",
        "    self.buffer = torch.zeros_like([])\n",
        "  def add_transion(self):\n",
        "    return None"
      ],
      "metadata": {
        "id": "L0F9GZ02IbAw"
      },
      "execution_count": null,
      "outputs": []
    },
    {
      "cell_type": "markdown",
      "source": [
        "# Envs"
      ],
      "metadata": {
        "id": "FWJeHwb1WEbb"
      }
    },
    {
      "cell_type": "code",
      "source": [
        "def make_env(env_id: str, rank: int, seed: int = 0):\n",
        "  def _init():\n",
        "    env = gym.make(env_id)\n",
        "    env.seed(seed + rank)\n",
        "    return env\n",
        "  torch.manual_seed(seed)\n",
        "  return _init\n",
        "\n",
        "num_cpu = 4\n",
        "env_p = SubprocVecEnv([make_env(env_id, i) for i in range(num_cpu)])\n"
      ],
      "metadata": {
        "id": "u8B6zMC4WuvZ"
      },
      "execution_count": null,
      "outputs": []
    },
    {
      "cell_type": "code",
      "source": [
        "obs = torch.tensor(env_p.reset())\n",
        "obs"
      ],
      "metadata": {
        "id": "_MyWS3NnjdbV",
        "colab": {
          "base_uri": "https://localhost:8080/"
        },
        "outputId": "e0284a30-7698-4cfc-efcc-1c27567262ba"
      },
      "execution_count": null,
      "outputs": [
        {
          "output_type": "execute_result",
          "data": {
            "text/plain": [
              "tensor([[-5.9156e-04,  1.4135e+00, -5.9936e-02,  1.1277e-01,  6.9229e-04,\n",
              "          1.3576e-02,  0.0000e+00,  0.0000e+00],\n",
              "        [-5.2567e-03,  1.3989e+00, -5.3248e-01, -5.3348e-01,  6.0981e-03,\n",
              "          1.2061e-01,  0.0000e+00,  0.0000e+00],\n",
              "        [-4.0088e-03,  1.4072e+00, -4.0605e-01, -1.6675e-01,  4.6519e-03,\n",
              "          9.1977e-02,  0.0000e+00,  0.0000e+00],\n",
              "        [-7.2308e-03,  1.4090e+00, -7.3242e-01, -8.7516e-02,  8.3855e-03,\n",
              "          1.6590e-01,  0.0000e+00,  0.0000e+00]])"
            ]
          },
          "metadata": {},
          "execution_count": 31
        }
      ]
    },
    {
      "cell_type": "code",
      "source": [
        "actions = ac.get_action(obs).numpy()\n",
        "actions"
      ],
      "metadata": {
        "colab": {
          "base_uri": "https://localhost:8080/"
        },
        "id": "J6wSbtkkjhaE",
        "outputId": "e3ea38f7-6a92-473b-dcb7-f6e25f54e741"
      },
      "execution_count": null,
      "outputs": [
        {
          "output_type": "execute_result",
          "data": {
            "text/plain": [
              "array([[-0.03697643, -0.03650609],\n",
              "       [-0.2617246 , -0.001944  ],\n",
              "       [-0.18491448, -0.11163113],\n",
              "       [-0.10428213, -0.03950775]], dtype=float32)"
            ]
          },
          "metadata": {},
          "execution_count": 32
        }
      ]
    },
    {
      "cell_type": "code",
      "source": [
        "env_p.step_async(actions)"
      ],
      "metadata": {
        "id": "4qn17gchkRr1"
      },
      "execution_count": null,
      "outputs": []
    },
    {
      "cell_type": "code",
      "source": [
        "env_p.step_wait()"
      ],
      "metadata": {
        "colab": {
          "base_uri": "https://localhost:8080/"
        },
        "id": "ml6n-0bjkqaX",
        "outputId": "7f36b088-2336-46a8-ec27-dccb9e80768e"
      },
      "execution_count": null,
      "outputs": [
        {
          "output_type": "execute_result",
          "data": {
            "text/plain": [
              "(array([[-1.18331914e-03,  1.41541684e+00, -5.98544367e-02,\n",
              "          8.70871544e-02,  1.36317231e-03,  1.34195890e-02,\n",
              "          0.00000000e+00,  0.00000000e+00],\n",
              "        [-1.05140684e-02,  1.38633800e+00, -5.31758964e-01,\n",
              "         -5.59106767e-01,  1.20580401e-02,  1.19209744e-01,\n",
              "          0.00000000e+00,  0.00000000e+00],\n",
              "        [-8.01782589e-03,  1.40283966e+00, -4.05504376e-01,\n",
              "         -1.92408934e-01,  9.19678714e-03,  9.09073725e-02,\n",
              "          0.00000000e+00,  0.00000000e+00],\n",
              "        [-1.44620892e-02,  1.40640640e+00, -7.31432617e-01,\n",
              "         -1.13186173e-01,  1.65834818e-02,  1.63975552e-01,\n",
              "          0.00000000e+00,  0.00000000e+00]], dtype=float32),\n",
              " array([ 1.94054617, -1.12638708, -1.01123009, -0.82140293]),\n",
              " array([False, False, False, False]),\n",
              " ({}, {}, {}, {}))"
            ]
          },
          "metadata": {},
          "execution_count": 34
        }
      ]
    },
    {
      "cell_type": "code",
      "source": [
        "env_p.step_async(actions)\n",
        "observation, reward, done, information = env_p.step_wait()\n",
        "print(len(done))\n",
        "\n"
      ],
      "metadata": {
        "colab": {
          "base_uri": "https://localhost:8080/"
        },
        "id": "HXrsWo7Rk9_t",
        "outputId": "cdc32074-f79e-424b-d1f9-a04d99b41adb"
      },
      "execution_count": null,
      "outputs": [
        {
          "output_type": "stream",
          "name": "stdout",
          "text": [
            "4\n"
          ]
        }
      ]
    },
    {
      "cell_type": "code",
      "source": [
        "env_p.action_space.shape"
      ],
      "metadata": {
        "colab": {
          "base_uri": "https://localhost:8080/"
        },
        "id": "x_rf01h3dH7U",
        "outputId": "7400ffcd-e003-4ab9-9cbb-fefe15eb411b"
      },
      "execution_count": null,
      "outputs": [
        {
          "output_type": "execute_result",
          "data": {
            "text/plain": [
              "(2,)"
            ]
          },
          "metadata": {},
          "execution_count": 36
        }
      ]
    },
    {
      "cell_type": "markdown",
      "source": [
        "# PPO Class: "
      ],
      "metadata": {
        "id": "9cSJ3GJ9c6ZN"
      }
    },
    {
      "cell_type": "markdown",
      "source": [
        "* sort out seeds\n",
        "* to.device()\n"
      ],
      "metadata": {
        "id": "dD6i_9gEhuwc"
      }
    },
    {
      "cell_type": "code",
      "source": [
        "# Actual cores in Colab is too low so we will stick with our values!\n",
        "num_cpus = multiprocessing.cpu_count()\n",
        "num_cpus"
      ],
      "metadata": {
        "colab": {
          "base_uri": "https://localhost:8080/"
        },
        "id": "x9j6ZeAHe3ge",
        "outputId": "6dfcdd23-5ccd-4260-d612-cbf218a89723"
      },
      "execution_count": null,
      "outputs": [
        {
          "output_type": "execute_result",
          "data": {
            "text/plain": [
              "2"
            ]
          },
          "metadata": {},
          "execution_count": 37
        }
      ]
    },
    {
      "cell_type": "code",
      "source": [
        "config = {\n",
        "    'std_init': 0.05,\n",
        "    'env_id': 'LunarLanderContinuous-v2',\n",
        "    'num_workers': 4,  # rank (seed) / envs / N\n",
        "    'num_epochs': 10, # K number of \n",
        "    'num_iterations': 10, # number of times we collect a dataset \n",
        "    'max_timesteps': 1000, # T\n",
        "    'epsilon': 0.2,  # clipping radius\n",
        "\n",
        "}"
      ],
      "metadata": {
        "id": "RPAQJUMXbPzD"
      },
      "execution_count": null,
      "outputs": []
    },
    {
      "cell_type": "code",
      "source": [
        "class PPO:\n",
        "  def __init__(self, config):\n",
        "\n",
        "    self.config = config\n",
        "    # self.num_cpus = multiprocessing.cpu_count()\n",
        "\n",
        "    self.envs = SubprocVecEnv([make_env(config['env_id'], i) for i in range(self.config['num_workers'])])\n",
        "\n",
        "    self.action_dim = self.envs.action_space.shape[0]\n",
        "    self.state_dim = self.envs.observation_space.shape[0]\n",
        "\n",
        "    self.model = ActorCritic(self.state_dim, self.action_dim, config['std_init'])\n",
        "\n",
        "  def create_rollout(self):\n",
        "\n",
        "    pass\n",
        "\n",
        "  def train(self): \n",
        "\n",
        "    for it in range(self.config['num_iterations']):\n",
        "      obs = torch.tensor(self.envs.reset())\n",
        "      obs_batch = [list() for i in range(self.config['num_workers'])]\n",
        "      action_batch = [list() for i in range(self.config['num_workers'])]\n",
        "      reward_batch = [list() for i in range(self.config['num_workers'])]\n",
        "      next_obs_batch = [list() for i in range(self.config['num_workers'])]\n",
        "      done_batch = [list() for i in range(self.config['num_workers'])]\n",
        "      active_workers = [i for i in range(self.config['num_workers'])] # slow => because if one worker is done it still continues to do rollouts\n",
        "\n",
        "      for t in range(self.config['max_timesteps']):\n",
        "        actions = self.model.get_action(obs).numpy()\n",
        "        self.envs.step_async(actions)\n",
        "        next_obs, reward, done, information = self.envs.step_wait()\n",
        "        \n",
        "\n",
        "        for i in range(self.config['num_workers']):\n",
        "          obs_batch[i].append(obs[i])\n",
        "          action_batch[i].append(actions[i])\n",
        "          reward_batch[i].append(reward[i])\n",
        "          done_batch[i].append(done[i])\n",
        "\n",
        "          if active_workers[i] and done[i] :\n",
        "            del(active_workers[i])\n",
        "        \n",
        "\n",
        "\n"
      ],
      "metadata": {
        "id": "9zcwpKAWZHhX",
        "colab": {
          "base_uri": "https://localhost:8080/",
          "height": 130
        },
        "outputId": "87fd7737-c24d-40f4-a3af-49c67477bd5f"
      },
      "execution_count": null,
      "outputs": [
        {
          "output_type": "error",
          "ename": "SyntaxError",
          "evalue": "ignored",
          "traceback": [
            "\u001b[0;36m  File \u001b[0;32m\"<ipython-input-39-abfa8c17114b>\"\u001b[0;36m, line \u001b[0;32m25\u001b[0m\n\u001b[0;31m    \u001b[0m\n\u001b[0m    ^\u001b[0m\n\u001b[0;31mSyntaxError\u001b[0m\u001b[0;31m:\u001b[0m unexpected EOF while parsing\n"
          ]
        }
      ]
    },
    {
      "cell_type": "code",
      "source": [
        "a = np.array([1,2,3,4])"
      ],
      "metadata": {
        "colab": {
          "base_uri": "https://localhost:8080/"
        },
        "id": "f8AtfIs7r5Z9",
        "outputId": "fee2ab35-4dcc-4905-c3e6-cc54158e1bd0"
      },
      "execution_count": null,
      "outputs": [
        {
          "output_type": "execute_result",
          "data": {
            "text/plain": [
              "array([1, 4])"
            ]
          },
          "metadata": {},
          "execution_count": 43
        }
      ]
    },
    {
      "cell_type": "markdown",
      "source": [
        "## covariance stuff\n",
        "\n",
        "Src: https://github.com/nikhilbarhate99/PPO-PyTorch/blob/master/PPO_colab.ipynb"
      ],
      "metadata": {
        "id": "oq0kE1aYK881"
      }
    },
    {
      "cell_type": "code",
      "source": [
        "torch.full((2,), 3 * 3)"
      ],
      "metadata": {
        "id": "-CV739BEKnlo"
      },
      "execution_count": null,
      "outputs": []
    },
    {
      "cell_type": "code",
      "source": [
        "torch.diag(torch.full((2,), 3 * 3)).unsqueeze(dim=0)"
      ],
      "metadata": {
        "id": "H4k6ylE7KrKw"
      },
      "execution_count": null,
      "outputs": []
    },
    {
      "cell_type": "code",
      "source": [
        ""
      ],
      "metadata": {
        "id": "sEw_7RnIK5kX"
      },
      "execution_count": null,
      "outputs": []
    }
  ]
}